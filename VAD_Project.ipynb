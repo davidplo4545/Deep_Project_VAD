{
  "nbformat": 4,
  "nbformat_minor": 0,
  "metadata": {
    "colab": {
      "provenance": [],
      "gpuType": "T4"
    },
    "kernelspec": {
      "name": "python3",
      "display_name": "Python 3"
    },
    "language_info": {
      "name": "python"
    },
    "accelerator": "GPU"
  },
  "cells": [
    {
      "cell_type": "code",
      "source": [
        "# from AutoDecoder import AutoDecoder\n",
        "# from VariationalAutoDecoder import VariationalAutoDecoder\n",
        "from utils import create_dataloaders\n",
        "from evaluate import reconstruction_loss, evaluate_model\n"
      ],
      "metadata": {
        "id": "GmteAhQy9OOM"
      },
      "execution_count": 2,
      "outputs": []
    },
    {
      "cell_type": "markdown",
      "source": [
        "1.3 Auto Decoder"
      ],
      "metadata": {
        "id": "E_Voa3N89E6w"
      }
    },
    {
      "cell_type": "code",
      "source": [
        "import torch\n",
        "import torch.nn as nn\n",
        "import torch.optim as optim\n",
        "\n",
        "def reconstruction_loss(x, x_rec):\n",
        "    \"\"\"\n",
        "    :param x: the original images\n",
        "    :param x_rec: the reconstructed images\n",
        "    :return: the reconstruction loss\n",
        "    \"\"\"\n",
        "    return torch.norm(x - x_rec) / torch.prod(torch.tensor(x.shape))\n",
        "\n",
        "class AD_Trainer:\n",
        "    def __init__(self, decoder, dataloader, latent_dim=64, device='cpu', lr=1e-3):\n",
        "        self.decoder = decoder.to(device)\n",
        "        self.latent_dim = latent_dim\n",
        "        self.dataloader = dataloader\n",
        "        self.device = device\n",
        "        self.latents = torch.nn.Parameter(torch.randn(len(self.dataloader.dataset), self.latent_dim).to(self.device))\n",
        "\n",
        "        # Optimizer\n",
        "        self.optimizer = optim.Adam(list(self.decoder.parameters()) + [self.latents], lr=lr)\n",
        "\n",
        "        # Loss function\n",
        "        self.loss = reconstruction_loss\n",
        "\n",
        "    def train_epoch(self):\n",
        "        self.decoder.train()\n",
        "        running_loss = 0.0\n",
        "\n",
        "        for batch_idx, (_, x) in enumerate(self.dataloader):\n",
        "            images = x.to(self.device)\n",
        "            batch_size = images.size(0)\n",
        "            # print(f\"batch size: {batch_size}\")\n",
        "            # Randomly initialize latent codes\n",
        "            z = self.latents[batch_idx * batch_size : (batch_idx + 1) * batch_size, :]\n",
        "\n",
        "            reconstructed_images = self.decoder(z)\n",
        "            # print(f\"Reconstructed image shape: {reconstructed_images.shape}\")\n",
        "            # print(f\"image shape: {images.shape}\")\n",
        "\n",
        "            loss = self.loss(images, reconstructed_images)\n",
        "            self.optimizer.zero_grad()\n",
        "            loss.backward()\n",
        "            self.optimizer.step()\n",
        "            running_loss += loss.item()\n",
        "\n",
        "        # Average loss over the epoch\n",
        "        epoch_loss = running_loss / len(self.dataloader)\n",
        "        return epoch_loss\n",
        "\n",
        "    def train(self, num_epochs=1000, early_stopping=None):\n",
        "        \"\"\"\n",
        "        Train the AutoDecoder for multiple epochs.\n",
        "\n",
        "        :param num_epochs: Number of epochs to train the model\n",
        "        \"\"\"\n",
        "        losses=list()\n",
        "        best_loss = None\n",
        "        for epoch in range(num_epochs):\n",
        "            epoch_loss = self.train_epoch()\n",
        "            losses.append(epoch_loss)\n",
        "            print(f\"Epoch [{epoch+1}/{num_epochs}], Loss: {epoch_loss:.4f}\")\n",
        "\n",
        "            if best_loss is None or epoch_loss < best_loss:\n",
        "                no_improvement = 0\n",
        "                best_loss = epoch_loss\n",
        "            else:\n",
        "                no_improvement += 1\n",
        "                if early_stopping is not None and no_improvement >= early_stopping:\n",
        "                    break\n",
        "\n",
        "        return losses"
      ],
      "metadata": {
        "id": "jqMiBdiTbet5"
      },
      "execution_count": 3,
      "outputs": []
    },
    {
      "cell_type": "code",
      "source": [
        "import torch\n",
        "import torch.nn as nn\n",
        "\n",
        "class AutoDecoder(nn.Module):\n",
        "    def __init__(self, layers=None):\n",
        "        super().__init__()\n",
        "        if layers is None:\n",
        "            # Default latent dim is 64\n",
        "            # Default hidden layers given below\n",
        "            self.decoder = nn.Sequential(\n",
        "                nn.Linear(64, 256),\n",
        "                nn.ReLU(),\n",
        "                nn.Linear(256, 512),\n",
        "                nn.ReLU(),\n",
        "                nn.Linear(512, 1024),\n",
        "                nn.ReLU(),\n",
        "                nn.Linear(1024, 28 * 28)\n",
        "            )\n",
        "        else:\n",
        "            self.decoder = layers\n",
        "\n",
        "    def forward(self, z):\n",
        "        x = self.decoder(z)\n",
        "        x = x.view(-1, 28, 28)\n",
        "        return x"
      ],
      "metadata": {
        "id": "fRnAT-Dhbf6I"
      },
      "execution_count": 1,
      "outputs": []
    },
    {
      "cell_type": "code",
      "source": [
        "train_ds, train_dl, test_ds, test_dl = create_dataloaders(data_path='', batch_size=32)\n"
      ],
      "metadata": {
        "id": "RTnTKhdwc0-3"
      },
      "execution_count": 5,
      "outputs": []
    },
    {
      "cell_type": "code",
      "source": [
        "arch = nn.Sequential(\n",
        "        nn.Linear(256, 512),\n",
        "        nn.BatchNorm1d(512),\n",
        "        nn.ReLU(),\n",
        "        nn.Dropout(0.25),\n",
        "        nn.Linear(512, 1024),\n",
        "        nn.BatchNorm1d(1024),\n",
        "        nn.ReLU(),\n",
        "        nn.Linear(1024, 2048),\n",
        "        nn.BatchNorm1d(2048),\n",
        "        nn.ReLU(),\n",
        "        nn.Linear(2048, 4096),\n",
        "        nn.ReLU(),\n",
        "        nn.Linear(4096, 784)\n",
        "    )\n",
        "\n",
        "device = torch.device(\"cuda\" if torch.cuda.is_available() else \"cpu\")\n",
        "print(f\"Using device: {device}\")\n",
        "decoder = AutoDecoder(arch)\n",
        "trainer = AD_Trainer(decoder=decoder, dataloader=train_dl, latent_dim=256, device=device, lr=5e-3)\n",
        "\n",
        "trainer.train(num_epochs=200)\n",
        "num_test_samples = len(test_dl.dataset)\n",
        "latents = torch.nn.Parameter(torch.randn(num_test_samples, trainer.latent_dim).to(device))\n",
        "opt = optim.Adam([latents], lr=1e-3)\n",
        "test_loss = evaluate_model(model=decoder, test_dl=test_dl, opt=opt, latents=latents, epochs=1000, device=device)\n",
        "print(f\"AD has finished test evaluation with a test loss of {test_loss}.\")"
      ],
      "metadata": {
        "colab": {
          "base_uri": "https://localhost:8080/"
        },
        "id": "TQ7uajDHc-7A",
        "outputId": "b6308dfc-9904-4dcb-d932-77382aca3e75"
      },
      "execution_count": null,
      "outputs": [
        {
          "output_type": "stream",
          "name": "stdout",
          "text": [
            "Using device: cpu\n",
            "Epoch [1/200], Loss: 0.5820\n",
            "Epoch [2/200], Loss: 0.5001\n",
            "Epoch [3/200], Loss: 0.4879\n",
            "Epoch [4/200], Loss: 0.4735\n",
            "Epoch [5/200], Loss: 0.4580\n",
            "Epoch [6/200], Loss: 0.4422\n",
            "Epoch [7/200], Loss: 0.4315\n",
            "Epoch [8/200], Loss: 0.4251\n",
            "Epoch [9/200], Loss: 0.4252\n",
            "Epoch [10/200], Loss: 0.4339\n",
            "Epoch [11/200], Loss: 0.4211\n",
            "Epoch [12/200], Loss: 0.4137\n",
            "Epoch [13/200], Loss: 0.4044\n",
            "Epoch [14/200], Loss: 0.3886\n",
            "Epoch [15/200], Loss: 0.3736\n",
            "Epoch [16/200], Loss: 0.3621\n",
            "Epoch [17/200], Loss: 0.3530\n",
            "Epoch [18/200], Loss: 0.3459\n",
            "Epoch [19/200], Loss: 0.3429\n",
            "Epoch [20/200], Loss: 0.3454\n",
            "Epoch [21/200], Loss: 0.3397\n",
            "Epoch [22/200], Loss: 0.3384\n",
            "Epoch [23/200], Loss: 0.3403\n",
            "Epoch [24/200], Loss: 0.3386\n",
            "Epoch [25/200], Loss: 0.3310\n",
            "Epoch [26/200], Loss: 0.3267\n",
            "Epoch [27/200], Loss: 0.3220\n",
            "Epoch [28/200], Loss: 0.3168\n",
            "Epoch [29/200], Loss: 0.3184\n",
            "Epoch [30/200], Loss: 0.3171\n",
            "Epoch [31/200], Loss: 0.3134\n",
            "Epoch [32/200], Loss: 0.3082\n",
            "Epoch [33/200], Loss: 0.3096\n",
            "Epoch [34/200], Loss: 0.3007\n",
            "Epoch [35/200], Loss: 0.3004\n",
            "Epoch [36/200], Loss: 0.2946\n",
            "Epoch [37/200], Loss: 0.2883\n",
            "Epoch [38/200], Loss: 0.2858\n",
            "Epoch [39/200], Loss: 0.2878\n",
            "Epoch [40/200], Loss: 0.2855\n",
            "Epoch [41/200], Loss: 0.2830\n",
            "Epoch [42/200], Loss: 0.2819\n",
            "Epoch [43/200], Loss: 0.2794\n",
            "Epoch [44/200], Loss: 0.2756\n",
            "Epoch [45/200], Loss: 0.2728\n",
            "Epoch [46/200], Loss: 0.2796\n",
            "Epoch [47/200], Loss: 0.2742\n",
            "Epoch [48/200], Loss: 0.2695\n",
            "Epoch [49/200], Loss: 0.2764\n",
            "Epoch [50/200], Loss: 0.2751\n",
            "Epoch [51/200], Loss: 0.2710\n",
            "Epoch [52/200], Loss: 0.2807\n",
            "Epoch [53/200], Loss: 0.2821\n",
            "Epoch [54/200], Loss: 0.2706\n",
            "Epoch [55/200], Loss: 0.2707\n"
          ]
        }
      ]
    },
    {
      "cell_type": "code",
      "source": [
        "# Randomly sample 5 indices from the test dataset\n",
        "import random\n",
        "random.seed(6)\n",
        "sampled_indices = random.sample(range(len(latents)), 5)\n",
        "\n",
        "# Extract the corresponding vectors (input data) and their labels\n",
        "sampled_latents = [latents[i] for i in sampled_indices]  # Only selecting input data, not labels\n",
        "\n",
        "# Convert to a single tensor (optional)\n",
        "sampled_latents_tensor = torch.stack(sampled_latents)\n",
        "random_latents_tensor = torch.randn_like(sampled_latents_tensor)\n",
        "\n",
        "print(\"Sampled Vectors Shape:\", sampled_latents_tensor.shape)  # Should be (5, *) depending on your data shape\n",
        "print(\"Random Vectors Shape:\", random_latents_tensor.shape)  # Should be (5, *) depending on your data shape\n",
        "\n",
        "sampled_test_images = decoder(sampled_latents_tensor).view(-1, 1, 28, 28)\n",
        "random_test_images = decoder(random_latents_tensor).view(-1, 1, 28, 28)\n",
        "\n",
        "print(\"Sampled Images Shape:\", sampled_test_images.shape)  # Should be (5, *) depending on your data shape\n",
        "# utils.save_images(sampled_test_images, \"sampled_test_images.png\")\n",
        "# utils.save_images(random_test_images, \"random_test_images.png\")\n",
        "import matplotlib.pyplot as plt\n",
        "plt.imshow(sampled_test_images.detach().cpu().numpy().reshape(28, 28), cmap='gray')\n",
        "plt.show()"
      ],
      "metadata": {
        "id": "aeR9d4gNdSf1"
      },
      "execution_count": null,
      "outputs": []
    },
    {
      "cell_type": "markdown",
      "source": [
        "Not here"
      ],
      "metadata": {
        "id": "XMxcc5B-c1um"
      }
    },
    {
      "cell_type": "code",
      "source": [
        "import torch\n",
        "import torch.nn as nn\n",
        "import torch.nn.functional as F\n",
        "from evaluate import reconstruction_loss\n",
        "\n",
        "class AutoDecoder(nn.Module):\n",
        "    def __init__(self, latent_dim):\n",
        "        super(AutoDecoder, self).__init__()\n",
        "        self.latent_dim = latent_dim\n",
        "        self.fc = nn.Linear(latent_dim, 128 * 7 * 7)\n",
        "\n",
        "        self.decoder = nn.Sequential(\n",
        "            nn.ConvTranspose2d(128, 64, kernel_size=3, stride=2, padding=1, output_padding=1),  # Output: 64 x 14 x 14\n",
        "            nn.BatchNorm2d(64),\n",
        "            nn.ReLU(True),\n",
        "\n",
        "            nn.ConvTranspose2d(64, 32, kernel_size=3, stride=2, padding=1, output_padding=1),  # Output: 32 x 28 x 28\n",
        "            nn.BatchNorm2d(32),\n",
        "            nn.ReLU(True),\n",
        "\n",
        "            nn.Conv2d(32, 1, kernel_size=3, padding=1),  # Output: 1 x 28 x 28\n",
        "        )\n",
        "\n",
        "    def forward(self, x):\n",
        "        # Fully connected to reshape the latent vector into 128 feature maps of size 7x7\n",
        "        x = self.fc(x)\n",
        "        x = x.view(-1, 128, 7, 7)  # Reshape to (batch_size, 128, 7, 7)\n",
        "\n",
        "        # Pass through decoder layers to get output image\n",
        "        x = self.decoder(x)\n",
        "        return x\n",
        "\n",
        "\n",
        "def loss_function(reconstructed_x, x):\n",
        "  # print(reconstructed_x, x.view(-1, 784))\n",
        "  # Binary Cross Entropy loss for reconstruction\n",
        "  return F.binary_cross_entropy(reconstructed_x, x.view(-1, 784), reduction='sum')\n",
        "\n",
        "def train(model, dataloader, optimizer, criterion, device):\n",
        "\n",
        "  # Training loop\n",
        "  num_epochs = 30\n",
        "  for epoch in range(num_epochs):\n",
        "      total_loss = 0\n",
        "      for data in dataloader:\n",
        "          _, sample = data\n",
        "          # sample = sample.float()\n",
        "          sample = sample.to(device)\n",
        "\n",
        "          z_latent = torch.randn(sample.size(0), model.latent_dim).to(device)\n",
        "          # print(sample.dtype)\n",
        "          optimizer.zero_grad()\n",
        "          output = model(z_latent)\n",
        "          # print(output)\n",
        "          # print(output.dtype)\n",
        "\n",
        "          loss = reconstruction_loss(sample, output)\n",
        "          loss.backward()\n",
        "          optimizer.step()\n",
        "\n",
        "          total_loss += loss.item()\n",
        "\n",
        "      avg_loss = total_loss / len(dataloader)\n",
        "      print(f\"Epoch [{epoch+1}/{num_epochs}], Average Loss: {avg_loss:.4f}\")\n"
      ],
      "metadata": {
        "id": "bm1-X07MBJ1M"
      },
      "execution_count": 29,
      "outputs": []
    },
    {
      "cell_type": "code",
      "source": [
        "# train_ds, train_dl, test_ds, test_dl = create_dataloaders(data_path='', batch_size=128)\n",
        "train_ds, train_dl, test_ds, test_dl = create_dataloaders(data_path='', batch_size=32)\n",
        "print(train_dl.batch_size)\n",
        "# print(train_ds[500])\n",
        "# print(len(test_ds))"
      ],
      "metadata": {
        "colab": {
          "base_uri": "https://localhost:8080/"
        },
        "id": "WCqjDj_79N54",
        "outputId": "1af0ae55-558c-4f11-df66-c5cf99513c49"
      },
      "execution_count": 4,
      "outputs": [
        {
          "output_type": "stream",
          "name": "stdout",
          "text": [
            "32\n"
          ]
        }
      ]
    },
    {
      "cell_type": "code",
      "source": [
        "# Training the model\n",
        "# device = torch.device(\"cuda\" if torch.cuda.is_available() else \"cpu\")\n",
        "# print(f\"Using device: {device}\")\n",
        "\n",
        "# model = AutoDecoder(latent_dim=64).to(device)\n",
        "# criterion = nn.MSELoss()\n",
        "# optimizer = torch.optim.Adam(model.parameters(), lr=0.001)\n",
        "# train(model, train_dl, optimizer, criterion, device)"
      ],
      "metadata": {
        "colab": {
          "base_uri": "https://localhost:8080/"
        },
        "id": "R50MwUfzIrmL",
        "outputId": "fbfa98b0-7850-43a7-c7e0-d79d79ea1b12"
      },
      "execution_count": 31,
      "outputs": [
        {
          "output_type": "stream",
          "name": "stdout",
          "text": [
            "Using device: cpu\n",
            "Epoch [1/60], Average Loss: 4.0498\n",
            "Epoch [2/60], Average Loss: 3.8736\n",
            "Epoch [3/60], Average Loss: 3.6562\n",
            "Epoch [4/60], Average Loss: 3.4402\n",
            "Epoch [5/60], Average Loss: 3.2354\n",
            "Epoch [6/60], Average Loss: 3.0563\n",
            "Epoch [7/60], Average Loss: 2.9163\n",
            "Epoch [8/60], Average Loss: 2.8211\n",
            "Epoch [9/60], Average Loss: 2.7625\n",
            "Epoch [10/60], Average Loss: 2.7293\n",
            "Epoch [11/60], Average Loss: 2.7069\n",
            "Epoch [12/60], Average Loss: 2.6927\n",
            "Epoch [13/60], Average Loss: 2.6836\n",
            "Epoch [14/60], Average Loss: 2.6795\n",
            "Epoch [15/60], Average Loss: 2.6774\n",
            "Epoch [16/60], Average Loss: 2.6759\n",
            "Epoch [17/60], Average Loss: 2.6757\n",
            "Epoch [18/60], Average Loss: 2.6751\n",
            "Epoch [19/60], Average Loss: 2.6740\n",
            "Epoch [20/60], Average Loss: 2.6736\n",
            "Epoch [21/60], Average Loss: 2.6738\n",
            "Epoch [22/60], Average Loss: 2.6739\n",
            "Epoch [23/60], Average Loss: 2.6735\n",
            "Epoch [24/60], Average Loss: 2.6729\n",
            "Epoch [25/60], Average Loss: 2.6729\n",
            "Epoch [26/60], Average Loss: 2.6727\n",
            "Epoch [27/60], Average Loss: 2.6723\n",
            "Epoch [28/60], Average Loss: 2.6728\n",
            "Epoch [29/60], Average Loss: 2.6720\n",
            "Epoch [30/60], Average Loss: 2.6725\n",
            "Epoch [31/60], Average Loss: 2.6720\n",
            "Epoch [32/60], Average Loss: 2.6718\n",
            "Epoch [33/60], Average Loss: 2.6717\n",
            "Epoch [34/60], Average Loss: 2.6715\n",
            "Epoch [35/60], Average Loss: 2.6715\n",
            "Epoch [36/60], Average Loss: 2.6711\n",
            "Epoch [37/60], Average Loss: 2.6710\n",
            "Epoch [38/60], Average Loss: 2.6714\n",
            "Epoch [39/60], Average Loss: 2.6707\n",
            "Epoch [40/60], Average Loss: 2.6710\n",
            "Epoch [41/60], Average Loss: 2.6708\n",
            "Epoch [42/60], Average Loss: 2.6705\n",
            "Epoch [43/60], Average Loss: 2.6710\n",
            "Epoch [44/60], Average Loss: 2.6710\n",
            "Epoch [45/60], Average Loss: 2.6704\n",
            "Epoch [46/60], Average Loss: 2.6704\n",
            "Epoch [47/60], Average Loss: 2.6703\n",
            "Epoch [48/60], Average Loss: 2.6703\n",
            "Epoch [49/60], Average Loss: 2.6701\n",
            "Epoch [50/60], Average Loss: 2.6702\n",
            "Epoch [51/60], Average Loss: 2.6701\n",
            "Epoch [52/60], Average Loss: 2.6699\n",
            "Epoch [53/60], Average Loss: 2.6702\n",
            "Epoch [54/60], Average Loss: 2.6701\n",
            "Epoch [55/60], Average Loss: 2.6698\n",
            "Epoch [56/60], Average Loss: 2.6698\n",
            "Epoch [57/60], Average Loss: 2.6694\n",
            "Epoch [58/60], Average Loss: 2.6696\n",
            "Epoch [59/60], Average Loss: 2.6699\n",
            "Epoch [60/60], Average Loss: 2.6696\n"
          ]
        }
      ]
    },
    {
      "cell_type": "code",
      "source": [
        "test_latents = torch.randn(len(test_ds), model.latent_dim).to(device)  # Random initial latents\n",
        "epochs = 10\n",
        "# opt = torch.optim.Adam([test_latents], lr=0.001)  # Optimize only the latents\n",
        "\n",
        "evaluate_model(model, test_dl, optimizer, test_latents, epochs, device)"
      ],
      "metadata": {
        "colab": {
          "base_uri": "https://localhost:8080/"
        },
        "id": "UbyCZpvwj4zF",
        "outputId": "54fbbe71-3a1c-49ce-f19c-893160d8ab7c"
      },
      "execution_count": 37,
      "outputs": [
        {
          "output_type": "execute_result",
          "data": {
            "text/plain": [
              "2.6847420409321785"
            ]
          },
          "metadata": {},
          "execution_count": 37
        }
      ]
    },
    {
      "cell_type": "code",
      "source": [
        "test_vector = torch.randn(1, model.latent_dim).to(device)\n",
        "test_vector1 = torch.randn(1, model.latent_dim).to(device)\n",
        "\n",
        "# decode the test_vector from the model\n",
        "decoded_vector = model(test_vector)\n",
        "decoded_vector1 = model(test_vector1)\n",
        "# show the test_vector as a 28x28 image\n",
        "import matplotlib.pyplot as plt\n",
        "plt.imshow(decoded_vector.detach().cpu().numpy().reshape(28, 28), cmap='gray')\n",
        "plt.show()"
      ],
      "metadata": {
        "colab": {
          "base_uri": "https://localhost:8080/",
          "height": 430
        },
        "id": "QzUhDID7o5Od",
        "outputId": "625f9b22-cad3-463c-e57b-9ccee9519bfd"
      },
      "execution_count": 51,
      "outputs": [
        {
          "output_type": "display_data",
          "data": {
            "text/plain": [
              "<Figure size 640x480 with 1 Axes>"
            ],
            "image/png": "[encoded data removed]"
          },
          "metadata": {}
        }
      ]
    },
    {
      "cell_type": "code",
      "source": [
        "print(test_vector == test_vector1)\n",
        "plt.imshow(decoded_vector1.detach().cpu().numpy().reshape(28, 28), cmap='gray')"
      ],
      "metadata": {
        "colab": {
          "base_uri": "https://localhost:8080/",
          "height": 569
        },
        "id": "XAOfJ_NCWou8",
        "outputId": "fa0a72cf-f923-4ca7-caac-b8ac9c293e20"
      },
      "execution_count": 52,
      "outputs": [
        {
          "output_type": "stream",
          "name": "stdout",
          "text": [
            "tensor([[False, False, False, False, False, False, False, False, False, False,\n",
            "         False, False, False, False, False, False, False, False, False, False,\n",
            "         False, False, False, False, False, False, False, False, False, False,\n",
            "         False, False, False, False, False, False, False, False, False, False,\n",
            "         False, False, False, False, False, False, False, False, False, False,\n",
            "         False, False, False, False, False, False, False, False, False, False,\n",
            "         False, False, False, False]])\n"
          ]
        },
        {
          "output_type": "execute_result",
          "data": {
            "text/plain": [
              "<matplotlib.image.AxesImage at 0x7aa9562c5510>"
            ]
          },
          "metadata": {},
          "execution_count": 52
        },
        {
          "output_type": "display_data",
          "data": {
            "text/plain": [
              "<Figure size 640x480 with 1 Axes>"
            ],
            "image/png": "[encoded data removed]"
          },
          "metadata": {}
        }
      ]
    }
  ]
}